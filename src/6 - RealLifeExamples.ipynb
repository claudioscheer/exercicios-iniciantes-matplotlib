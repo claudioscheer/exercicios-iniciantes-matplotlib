{
 "cells": [
  {
   "cell_type": "markdown",
   "metadata": {},
   "source": [
    "## Matplotlib Real Life Examples"
   ]
  },
  {
   "cell_type": "markdown",
   "metadata": {},
   "source": [
    "#### Install the dependencies."
   ]
  },
  {
   "cell_type": "code",
   "execution_count": null,
   "metadata": {},
   "outputs": [],
   "source": [
    "!pip install matplotlib\n",
    "!pip install pandas"
   ]
  },
  {
   "cell_type": "markdown",
   "metadata": {},
   "source": [
    "#### Import the dependencies."
   ]
  },
  {
   "cell_type": "code",
   "execution_count": null,
   "metadata": {},
   "outputs": [],
   "source": [
    "import matplotlib.pyplot as plt\n",
    "import numpy as np\n",
    "import pandas as pd\n",
    "from collections import Counter\n",
    "from GraphHelper import rand_color, rand_pattern"
   ]
  },
  {
   "cell_type": "markdown",
   "metadata": {},
   "source": [
    "#### Get data from CSV."
   ]
  },
  {
   "cell_type": "code",
   "execution_count": null,
   "metadata": {},
   "outputs": [],
   "source": [
    "csv_data = pd.read_csv(\"../data.csv\")\n",
    "\n",
    "def get_csv_column(column):\n",
    "    return csv_data[column].tolist()"
   ]
  },
  {
   "cell_type": "markdown",
   "metadata": {},
   "source": [
    "### Papers per year"
   ]
  },
  {
   "cell_type": "markdown",
   "metadata": {},
   "source": [
    "#### Define the data that would be used."
   ]
  },
  {
   "cell_type": "code",
   "execution_count": null,
   "metadata": {},
   "outputs": [],
   "source": [
    "years = get_csv_column(\"Year\")\n",
    "years_counter = Counter(years)\n",
    "years_sorted = sorted(years_counter.items(), key=lambda x: x[0])\n",
    "x = [x[0] for x in years_sorted]\n",
    "y = [x[1] for x in years_sorted]"
   ]
  },
  {
   "cell_type": "markdown",
   "metadata": {},
   "source": [
    "\n",
    "#### Create plot."
   ]
  },
  {
   "cell_type": "code",
   "execution_count": null,
   "metadata": {
    "scrolled": true
   },
   "outputs": [],
   "source": [
    "plt.rc(\"hatch\", linewidth=1)\n",
    "\n",
    "patches = plt.bar(x, y)\n",
    "for index, patch in enumerate(patches):\n",
    "    patch.set_color(rand_color())\n",
    "    patch.set_hatch(rand_pattern())\n",
    "    patch.set_edgecolor(\"white\")\n",
    "    plt.annotate(y[index], (x[index], y[index] + 4), color=\"red\", fontsize=16, ha=\"center\")\n",
    "\n",
    "plt.yticks(np.arange(np.min(y), np.max(y) + 30, 10))\n",
    "plt.xlabel(\"Year\")\n",
    "plt.ylabel(\"Count of papers\".title())\n",
    "plt.title(\"Papers per year\".title())    \n",
    "plt.show()"
   ]
  },
  {
   "cell_type": "markdown",
   "metadata": {},
   "source": [
    "### Countries with more papers"
   ]
  },
  {
   "cell_type": "markdown",
   "metadata": {},
   "source": [
    "#### Define the data that would be used."
   ]
  },
  {
   "cell_type": "code",
   "execution_count": null,
   "metadata": {},
   "outputs": [],
   "source": [
    "countries = []\n",
    "for x in get_csv_column(\"Country/Location\"):\n",
    "    countries.extend([z.strip() for z in x.split(\",\")])\n",
    "    \n",
    "countries_counter = Counter(countries)\n",
    "countries_sorted = sorted(countries_counter.items(), key=lambda x:x[1], reverse=True)\n",
    "\n",
    "graph_countries = countries_sorted[:10]\n",
    "others_countries = countries_sorted[10:]\n",
    "\n",
    "sum_others_countries = sum([x[1] for x in others_countries])\n",
    "graph_countries.append((\"Others\", sum_others_countries))\n",
    "\n",
    "labels = [x[0] for x in graph_countries]\n",
    "data = [x[1] for x in graph_countries]"
   ]
  },
  {
   "cell_type": "markdown",
   "metadata": {},
   "source": [
    "#### Create plot."
   ]
  },
  {
   "cell_type": "code",
   "execution_count": null,
   "metadata": {},
   "outputs": [],
   "source": [
    "patches, texts, autotexts = plt.pie(\n",
    "    data,\n",
    "    labels=labels,\n",
    "    autopct=\"%1.1f%%\",\n",
    "    startangle=-45,\n",
    "    wedgeprops={\"edgecolor\": \"white\", \"linewidth\": 0.1},\n",
    ")\n",
    "\n",
    "for patch, text, autotext in zip(patches, texts, autotexts):\n",
    "    patch.set_alpha(0.8)\n",
    "    patch.set_hatch(rand_pattern())\n",
    "    patch.set_color(rand_color())\n",
    "    \n",
    "    text.set_fontsize(24)\n",
    "    autotext.set_fontsize(16)\n",
    "    autotext.set_ha(\"center\")\n",
    "    autotext.set_va(\"center\")\n",
    "    autotext.set_color(\"black\")\n",
    "\n",
    "\n",
    "plt.legend(patches, [f\"{x[0]} ({x[1]})\" for x in graph_countries], loc=\"best\")\n",
    "plt.title(\"Countries with more papers\".title())\n",
    "\n",
    "plt.show()"
   ]
  }
 ],
 "metadata": {
  "kernelspec": {
   "display_name": "Python 3",
   "language": "python",
   "name": "python3"
  },
  "language_info": {
   "codemirror_mode": {
    "name": "ipython",
    "version": 3
   },
   "file_extension": ".py",
   "mimetype": "text/x-python",
   "name": "python",
   "nbconvert_exporter": "python",
   "pygments_lexer": "ipython3",
   "version": "3.7.3"
  }
 },
 "nbformat": 4,
 "nbformat_minor": 2
}
