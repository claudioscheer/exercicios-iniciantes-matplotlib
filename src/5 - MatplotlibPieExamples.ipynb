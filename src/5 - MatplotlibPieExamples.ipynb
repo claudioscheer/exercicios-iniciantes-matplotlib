{
 "cells": [
  {
   "cell_type": "markdown",
   "metadata": {},
   "source": [
    "## Matplotlib Pie Examples"
   ]
  },
  {
   "cell_type": "markdown",
   "metadata": {},
   "source": [
    "#### Install the dependencies."
   ]
  },
  {
   "cell_type": "code",
   "execution_count": null,
   "metadata": {},
   "outputs": [],
   "source": [
    "!pip install matplotlib"
   ]
  },
  {
   "cell_type": "markdown",
   "metadata": {},
   "source": [
    "#### Import the dependencies."
   ]
  },
  {
   "cell_type": "code",
   "execution_count": null,
   "metadata": {},
   "outputs": [],
   "source": [
    "import matplotlib.pyplot as plt\n",
    "import numpy as np"
   ]
  },
  {
   "cell_type": "markdown",
   "metadata": {},
   "source": [
    "### Example 1"
   ]
  },
  {
   "cell_type": "markdown",
   "metadata": {},
   "source": [
    "#### Define the data that would be used."
   ]
  },
  {
   "cell_type": "code",
   "execution_count": null,
   "metadata": {},
   "outputs": [],
   "source": [
    "labels = [\"Frog\", \"Pig\", \"Dog\", \"Cat\"]\n",
    "values = [15, 30, 45, 10]"
   ]
  },
  {
   "cell_type": "markdown",
   "metadata": {},
   "source": [
    "#### Create plot."
   ]
  },
  {
   "cell_type": "code",
   "execution_count": null,
   "metadata": {
    "scrolled": true
   },
   "outputs": [],
   "source": [
    "plt.pie(values, labels=labels, autopct=\"%1.2f%%\", explode=(0.05, 0, 0, 0))\n",
    "plt.show()"
   ]
  },
  {
   "cell_type": "markdown",
   "metadata": {},
   "source": [
    "### Example 2"
   ]
  },
  {
   "cell_type": "markdown",
   "metadata": {},
   "source": [
    "#### Define the data that would be used."
   ]
  },
  {
   "cell_type": "code",
   "execution_count": null,
   "metadata": {},
   "outputs": [],
   "source": [
    "labels_groups = [\"A\", \"B\"]\n",
    "values_groups = [45, 55]\n",
    "labels_animals = [\"Frog\", \"Pig\", \"Dog\", \"Cat\"]\n",
    "values_animals = [15, 30, 45, 10]"
   ]
  },
  {
   "cell_type": "markdown",
   "metadata": {},
   "source": [
    "#### Create plot."
   ]
  },
  {
   "cell_type": "code",
   "execution_count": null,
   "metadata": {},
   "outputs": [],
   "source": [
    "patches1, texts1 = plt.pie(values_groups, labels=labels_groups, radius=1.1,\n",
    "                           wedgeprops={\"edgecolor\": \"white\", \"width\": 0.4})\n",
    "plt.pie(values_animals, labels=labels_animals, radius=0.7, rotatelabels=90,\n",
    "        wedgeprops={\"edgecolor\": \"white\", \"linewidth\": 2, \"width\": 0.4})\n",
    "\n",
    "for patch, txt in zip(patches1, texts1):\n",
    "    patch.set_alpha(0.5)\n",
    "    patch.set_hatch(\"*\")\n",
    "    txt.set_fontsize(20)\n",
    "    txt.set_color(\"red\")\n",
    "\n",
    "plt.show()"
   ]
  }
 ],
 "metadata": {
  "kernelspec": {
   "display_name": "Python 3",
   "language": "python",
   "name": "python3"
  },
  "language_info": {
   "codemirror_mode": {
    "name": "ipython",
    "version": 3
   },
   "file_extension": ".py",
   "mimetype": "text/x-python",
   "name": "python",
   "nbconvert_exporter": "python",
   "pygments_lexer": "ipython3",
   "version": "3.7.3"
  }
 },
 "nbformat": 4,
 "nbformat_minor": 2
}
